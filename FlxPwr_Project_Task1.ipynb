{
 "cells": [
  {
   "cell_type": "markdown",
   "id": "87bfe2e2-6faf-44b7-a587-e41a8d31fc25",
   "metadata": {},
   "source": [
    "# Task 1\n",
    "### Task 1.1\n",
    "##### Write a function that computes the total buy volume for flex power, another that computes the total sell volume."
   ]
  },
  {
   "cell_type": "code",
   "execution_count": 1,
   "id": "354a6ead-e00f-49b9-b869-9879f86b5024",
   "metadata": {},
   "outputs": [],
   "source": [
    "import sqlite3 # Import sqlite3 to acess the database in python\n",
    "\n",
    "def compute_total_buy_volume(db_path: str = 'trades.sqlite') -> float:\n",
    "    conn = sqlite3.connect(db_path)\n",
    "    cursor = conn.cursor()\n",
    "\n",
    "    # Sum up the quantities (volume) on the buyside\n",
    "    cursor.execute('''\n",
    "        SELECT SUM(quantity) FROM epex_12_20_12_13\n",
    "        WHERE side = 'buy'\n",
    "    ''')\n",
    "    res = cursor.fetchone()[0]\n",
    "    conn.close()\n",
    "\n",
    "    return res if res else 0.0\n",
    "\n",
    "# Identical procedure on the sell-side\n",
    "def compute_total_sell_volume(db_path: str = 'trades.sqlite') -> float:\n",
    "    conn = sqlite3.connect(db_path)\n",
    "    cursor = conn.cursor()\n",
    "\n",
    "    cursor.execute('''\n",
    "        SELECT SUM(quantity) FROM epex_12_20_12_13\n",
    "        WHERE side = 'sell'\n",
    "    ''')\n",
    "    res = cursor.fetchone()[0]\n",
    "    conn.close()\n",
    "\n",
    "    return res if res else 0.0"
   ]
  },
  {
   "cell_type": "code",
   "execution_count": 2,
   "id": "37596415-a703-4657-ac93-6a7b4684048f",
   "metadata": {},
   "outputs": [
    {
     "name": "stdout",
     "output_type": "stream",
     "text": [
      "Total Buy Volume: 28 MW\n",
      "Total Sell Volume: 53 MW\n"
     ]
    }
   ],
   "source": [
    "buy_volume = compute_total_buy_volume()\n",
    "sell_volume = compute_total_sell_volume()\n",
    "\n",
    "print(f'Total Buy Volume: {buy_volume} MW')\n",
    "print(f'Total Sell Volume: {sell_volume} MW')\n"
   ]
  },
  {
   "cell_type": "markdown",
   "id": "b4fb1d69-de72-4f94-88c1-0c2698cbb5a7",
   "metadata": {},
   "source": [
    "### Task 1.2\n",
    "##### Write a function that computes the PnL (profit and loss) of each strategy in euros. It's defined as the sum of the incomes realized with each trade. If we sell energy, our income is quantity * price since we got money for our electricity. If we buy energy, our income is -quantity * price."
   ]
  },
  {
   "cell_type": "code",
   "execution_count": 25,
   "id": "f2a60d2d-e502-418f-9eb4-b6ef27aaabad",
   "metadata": {},
   "outputs": [],
   "source": [
    "'''\n",
    "The idea is very similar to Task 1.1: By acessing the sell-side of the specific strategy_id and\n",
    "multiplying the quantity with price, we get the amount we receive by selling positions.\n",
    "On the other hand we get the buying cost by acessing the buy-side. \n",
    "Deducting the cost from the income we get the P&L of the strategy.\n",
    "'''\n",
    "\n",
    "def compute_pnl(strategy_id: str, db_path: str = 'trades.sqlite') -> float:\n",
    "    conn = sqlite3.connect(db_path)\n",
    "    cursor = conn.cursor()\n",
    "    \n",
    "    # Sell income: +quantity * price\n",
    "    cursor.execute('''\n",
    "        SELECT SUM(quantity * price) FROM epex_12_20_12_13\n",
    "        WHERE strategy = ? AND side = 'sell'\n",
    "    ''', (strategy_id,))\n",
    "    sell_income = cursor.fetchone()[0] or 0.0\n",
    "\n",
    "    # Buy income: -quantity * price\n",
    "    cursor.execute('''\n",
    "        SELECT SUM(quantity * -price) FROM epex_12_20_12_13\n",
    "        WHERE strategy = ? AND side = 'buy'\n",
    "    ''', (strategy_id,))\n",
    "    buy_cost = cursor.fetchone()[0] or 0.0\n",
    "\n",
    "    conn.close()\n",
    "\n",
    "    pnl = sell_income + buy_cost\n",
    "    return pnl\n"
   ]
  },
  {
   "cell_type": "code",
   "execution_count": 26,
   "id": "87716e13-b415-48d5-90f9-d1c56be9ddde",
   "metadata": {},
   "outputs": [
    {
     "name": "stdout",
     "output_type": "stream",
     "text": [
      "The P&L of strategy_1 is -50.00€\n",
      "The P&L of strategy_2 is 548.00€\n",
      "The P&L of strategy_3 is 0.00€\n"
     ]
    }
   ],
   "source": [
    "# Testing the function with different Strategies\n",
    "print(f'The P&L of strategy_1 is {compute_pnl(\"strategy_1\"):.2f}€')\n",
    "print(f'The P&L of strategy_2 is {compute_pnl(\"strategy_2\"):.2f}€')\n",
    "print(f'The P&L of strategy_3 is {compute_pnl(\"strategy_3\"):.2f}€') # should be zero since no 'strategy_3' exists\n"
   ]
  },
  {
   "cell_type": "markdown",
   "id": "a611dab1-1076-44e5-ba7f-9dffa9a4d385",
   "metadata": {},
   "source": [
    "### Task 1.3\n",
    "##### Expose the function defined in the second task as an entrypoint of a web application.\n"
   ]
  },
  {
   "cell_type": "code",
   "execution_count": 12,
   "id": "2a91ff44-a7e1-4b59-8d4c-1189e7b7a894",
   "metadata": {},
   "outputs": [
    {
     "name": "stdout",
     "output_type": "stream",
     "text": [
      " * Serving Flask app '__main__'\n",
      " * Debug mode: off\n"
     ]
    },
    {
     "name": "stderr",
     "output_type": "stream",
     "text": [
      "\u001b[31m\u001b[1mWARNING: This is a development server. Do not use it in a production deployment. Use a production WSGI server instead.\u001b[0m\n",
      " * Running on http://127.0.0.1:5000\n",
      "\u001b[33mPress CTRL+C to quit\u001b[0m\n",
      "127.0.0.1 - - [13/Apr/2025 11:24:18] \"\u001b[33mGET / HTTP/1.1\u001b[0m\" 404 -\n",
      "127.0.0.1 - - [13/Apr/2025 11:24:34] \"\u001b[33mGET / HTTP/1.1\u001b[0m\" 404 -\n",
      "127.0.0.1 - - [13/Apr/2025 11:24:48] \"GET /v1/pnl/YOUR_STRATEGY_ID HTTP/1.1\" 200 -\n",
      "127.0.0.1 - - [13/Apr/2025 11:26:20] \"GET /v1/pnl/strategy_1 HTTP/1.1\" 200 -\n",
      "127.0.0.1 - - [13/Apr/2025 11:26:28] \"GET /v1/pnl/strategy_2 HTTP/1.1\" 200 -\n"
     ]
    }
   ],
   "source": [
    "from flask import Flask, jsonify\n",
    "from datetime import datetime\n",
    "import sqlite3\n",
    "from threading import Thread\n",
    "\n",
    "app = Flask(__name__)\n",
    "\n",
    "\n",
    "@app.route('/v1/pnl/<strategy_id>', methods=['GET'])\n",
    "def get_pnl(strategy_id):\n",
    "    pnl = compute_pnl(strategy_id)\n",
    "    response = {\n",
    "        'strategy': strategy_id,\n",
    "        'value': round(pnl, 2),\n",
    "        'unit': 'euro',\n",
    "        'capture_time': datetime.utcnow().isoformat() + 'Z'\n",
    "    }\n",
    "    return jsonify(response), 200\n",
    "\n",
    "# Run Flask \n",
    "def run_app():\n",
    "    app.run(port=5000)\n",
    "\n",
    "thread = Thread(target=run_app)\n",
    "thread.start()"
   ]
  }
 ],
 "metadata": {
  "kernelspec": {
   "display_name": "Python 3 (ipykernel)",
   "language": "python",
   "name": "python3"
  },
  "language_info": {
   "codemirror_mode": {
    "name": "ipython",
    "version": 3
   },
   "file_extension": ".py",
   "mimetype": "text/x-python",
   "name": "python",
   "nbconvert_exporter": "python",
   "pygments_lexer": "ipython3",
   "version": "3.11.9"
  }
 },
 "nbformat": 4,
 "nbformat_minor": 5
}
